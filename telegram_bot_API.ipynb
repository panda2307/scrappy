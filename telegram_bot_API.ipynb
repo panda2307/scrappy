{
 "cells": [
  {
   "cell_type": "markdown",
   "metadata": {},
   "source": [
    "## Bot from Scratch using Telegram API"
   ]
  },
  {
   "cell_type": "code",
   "execution_count": 1,
   "metadata": {
    "jupyter": {
     "source_hidden": true
    }
   },
   "outputs": [],
   "source": [
    "import requests\n",
    "import numpy as np\n",
    "import json\n",
    "import time"
   ]
  },
  {
   "cell_type": "code",
   "execution_count": 2,
   "metadata": {
    "jupyter": {
     "source_hidden": true
    }
   },
   "outputs": [],
   "source": [
    "API_token = '1704677561:AAEDL-fs6ekIoXrgj_lHhab3V1zq2hEcJXE'"
   ]
  },
  {
   "cell_type": "code",
   "execution_count": 158,
   "metadata": {
    "jupyter": {
     "source_hidden": true
    }
   },
   "outputs": [],
   "source": [
    "class telegram_bot():\n",
    "    def __init__(self, token):\n",
    "        self.token = token\n",
    "        self.base = f'https://api.telegram.org/bot{self.token}/'\n",
    "    \n",
    "    def get_updates(self, offset=None):\n",
    "        url = self.base+'getUpdates?timeout=100'\n",
    "        if offset:\n",
    "            url = url + f'&offset={offset+1}'\n",
    "        r = requests.get(url)\n",
    "        return r.json()\n",
    "    \n",
    "    def send_message(self, message, chat_id):\n",
    "        url = self.base+f'sendMessage?chat_id={chat_id}&text={message}'\n",
    "        if message is not None:\n",
    "            r = requests.get(url)\n",
    "        return r.json()"
   ]
  },
  {
   "cell_type": "markdown",
   "metadata": {},
   "source": [
    "### Reply with upper case of the string received as an update to the BOT"
   ]
  },
  {
   "cell_type": "markdown",
   "metadata": {},
   "source": [
    "Initialising the update id to `None`.\n",
    "- We will wait until we get a new update inside a `while True` loop.\n",
    "- if we do not get an update, we wont get inside the `if` condition and will not execute the `for` loop.\n",
    "- As soon as we get an update, we will get inside the `if` condition and check the updates for any messages.\n",
    "- Once we get the message as a text, we send the reply as an upper case of the same text to the sender.\n",
    "- All this happens over a timeout of 100s. If the sender doesnot send anything for 100s the update command shall stop receiving."
   ]
  },
  {
   "cell_type": "code",
   "execution_count": 1,
   "metadata": {
    "collapsed": true,
    "jupyter": {
     "outputs_hidden": true,
     "source_hidden": true
    }
   },
   "outputs": [
    {
     "ename": "NameError",
     "evalue": "name 'bot' is not defined",
     "output_type": "error",
     "traceback": [
      "\u001b[1;31m---------------------------------------------------------------------------\u001b[0m",
      "\u001b[1;31mNameError\u001b[0m                                 Traceback (most recent call last)",
      "\u001b[1;32m<ipython-input-1-8230d8bffa3b>\u001b[0m in \u001b[0;36m<module>\u001b[1;34m\u001b[0m\n\u001b[0;32m      1\u001b[0m \u001b[0mupdate_id\u001b[0m\u001b[1;33m=\u001b[0m\u001b[1;32mNone\u001b[0m\u001b[1;33m\u001b[0m\u001b[1;33m\u001b[0m\u001b[0m\n\u001b[0;32m      2\u001b[0m \u001b[1;32mwhile\u001b[0m \u001b[1;32mTrue\u001b[0m\u001b[1;33m:\u001b[0m\u001b[1;33m\u001b[0m\u001b[1;33m\u001b[0m\u001b[0m\n\u001b[1;32m----> 3\u001b[1;33m     \u001b[0mupdates\u001b[0m \u001b[1;33m=\u001b[0m \u001b[0mbot\u001b[0m\u001b[1;33m.\u001b[0m\u001b[0mget_updates\u001b[0m\u001b[1;33m(\u001b[0m\u001b[0mupdate_id\u001b[0m\u001b[1;33m)\u001b[0m\u001b[1;33m\u001b[0m\u001b[1;33m\u001b[0m\u001b[0m\n\u001b[0m\u001b[0;32m      4\u001b[0m     \u001b[1;32mif\u001b[0m \u001b[0mupdates\u001b[0m\u001b[1;33m:\u001b[0m\u001b[1;33m\u001b[0m\u001b[1;33m\u001b[0m\u001b[0m\n\u001b[0;32m      5\u001b[0m         \u001b[0mupdates_res\u001b[0m \u001b[1;33m=\u001b[0m \u001b[0mupdates\u001b[0m\u001b[1;33m[\u001b[0m\u001b[1;34m'result'\u001b[0m\u001b[1;33m]\u001b[0m\u001b[1;33m\u001b[0m\u001b[1;33m\u001b[0m\u001b[0m\n",
      "\u001b[1;31mNameError\u001b[0m: name 'bot' is not defined"
     ]
    }
   ],
   "source": [
    "update_id=None\n",
    "while True:\n",
    "    updates = bot.get_updates(update_id)\n",
    "    if updates:\n",
    "        updates_res = updates['result']\n",
    "        for item in updates_res:\n",
    "            update_id = item['update_id']\n",
    "            try:\n",
    "                mssg_body = item['message']\n",
    "                mssg=mssg_body['text']\n",
    "                sender=mssg_body['from']['id']\n",
    "            except:\n",
    "                mssg=None\n",
    "            if mssg is not None:\n",
    "                reply = mssg.upper()\n",
    "            bot.send_message(reply, sender)"
   ]
  },
  {
   "cell_type": "markdown",
   "metadata": {},
   "source": [
    "## Bot using Telegram Python Bot library"
   ]
  },
  {
   "cell_type": "code",
   "execution_count": 1,
   "metadata": {},
   "outputs": [],
   "source": [
    "import telegram\n",
    "from telegram import Bot\n",
    "import datetime\n",
    "from telegram.ext import Updater, Dispatcher, CommandHandler, MessageHandler, Filters\n",
    "import requests\n",
    "import numpy as np\n",
    "import time\n",
    "from selenium import webdriver"
   ]
  },
  {
   "cell_type": "code",
   "execution_count": 2,
   "metadata": {},
   "outputs": [],
   "source": [
    "from scrappy_MMT import GET_DATA, CLEAN_DATA\n",
    "import plotly.graph_objects as go\n",
    "from plotly.subplots import make_subplots"
   ]
  },
  {
   "cell_type": "code",
   "execution_count": 3,
   "metadata": {},
   "outputs": [],
   "source": [
    "API_token = '1704677561:AAEDL-fs6ekIoXrgj_lHhab3V1zq2hEcJXE'\n",
    "bot = Bot(token=API_token)"
   ]
  },
  {
   "cell_type": "markdown",
   "metadata": {},
   "source": [
    "Print basic information about the bot using `get_me` method."
   ]
  },
  {
   "cell_type": "code",
   "execution_count": 4,
   "metadata": {},
   "outputs": [
    {
     "name": "stdout",
     "output_type": "stream",
     "text": [
      "{'id': 1704677561, 'first_name': 'sampleBOT', 'is_bot': True, 'username': 'panda_23_panda_bot', 'can_join_groups': True, 'can_read_all_group_messages': False, 'supports_inline_queries': False}\n"
     ]
    }
   ],
   "source": [
    "print(bot.get_me())"
   ]
  },
  {
   "cell_type": "code",
   "execution_count": 5,
   "metadata": {},
   "outputs": [],
   "source": [
    "updater = Updater(token=API_token, use_context=True)\n",
    "dispatcher = updater.dispatcher"
   ]
  },
  {
   "cell_type": "markdown",
   "metadata": {},
   "source": [
    "`Updater` class receives updates from the bot, and the inbuilt `Dispatcher` object it uses handles the types of updates that come from the bot."
   ]
  },
  {
   "cell_type": "markdown",
   "metadata": {},
   "source": [
    "The following function is the function executed when `/start` command is given to the bot."
   ]
  },
  {
   "cell_type": "markdown",
   "metadata": {},
   "source": [
    "`dispatcher` instance handles the command by executing the function for that particular command."
   ]
  },
  {
   "cell_type": "code",
   "execution_count": 6,
   "metadata": {},
   "outputs": [],
   "source": [
    "def start(update, context):\n",
    "    context.bot.send_message(chat_id=update.effective_chat.id, text='Hello, nice to meet you. I am a work under progress...')\n",
    "\n",
    "start_handler = CommandHandler('start', start)\n",
    "dispatcher.add_handler(start_handler)"
   ]
  },
  {
   "cell_type": "code",
   "execution_count": 7,
   "metadata": {},
   "outputs": [],
   "source": [
    "def help_command(update, context):\n",
    "    pic = open('pic.jpg', 'rb')\n",
    "    response = bot.sendPhoto(chat_id=update.effective_chat.id, photo=pic, caption='Hey There!')\n",
    "\n",
    "help_handler = CommandHandler('help', help_command)\n",
    "dispatcher.add_handler(help_handler)"
   ]
  },
  {
   "cell_type": "code",
   "execution_count": 8,
   "metadata": {},
   "outputs": [],
   "source": [
    "def echo(update, context):\n",
    "    context.bot.send_message(chat_id=update.effective_chat.id, text=update.message.text.upper())\n",
    "\n",
    "echo_handler = MessageHandler(Filters.text & (~Filters.command), echo)\n",
    "dispatcher.add_handler(echo_handler)"
   ]
  },
  {
   "cell_type": "code",
   "execution_count": 9,
   "metadata": {},
   "outputs": [],
   "source": [
    "def getPrice_command(update, context):\n",
    "    # Get Prices\n",
    "    today = datetime.datetime.today().strftime('%d/%m/%Y')\n",
    "    cities = ['BLR', 'DEL']\n",
    "    tag = datetime.datetime.today().strftime('%d/%m/%Y_%H:%M:%S')\n",
    "    slider_text = GET_DATA(today, cities)\n",
    "    info_df = CLEAN_DATA(slider_text, tag)\n",
    "    \n",
    "    # Create Plotly graph\n",
    "    fig = go.Figure()\n",
    "    fig.add_trace(go.Scatter(x=info_df['Date'], y=info_df[f'Price_({tag})'].astype('int32'),\n",
    "                             name = 'Minmium price of flights'))\n",
    "    fig.update_layout(title='Min Flight Prices (including all airlines) as listed on MMT site', xaxis_title = 'Date', yaxis_title = 'Price (in Ruppees)')\n",
    "    fig.write_html(\"Prices_trend.html\")\n",
    "    \n",
    "    # Send Plotly graph as html file \n",
    "    html_file = open('Prices_trend.html', 'rb')\n",
    "    response = bot.sendDocument(chat_id=update.effective_chat.id, document=html_file, caption='Prices trend from today...')\n",
    "    \n",
    "getPrice_handler = CommandHandler('getprices', getPrice_command)\n",
    "dispatcher.add_handler(getPrice_handler)"
   ]
  },
  {
   "cell_type": "code",
   "execution_count": null,
   "metadata": {},
   "outputs": [],
   "source": [
    "def getMinPrices(update, context):\n",
    "    "
   ]
  },
  {
   "cell_type": "code",
   "execution_count": 10,
   "metadata": {},
   "outputs": [
    {
     "data": {
      "text/plain": [
       "<queue.Queue at 0x15116d6e910>"
      ]
     },
     "execution_count": 10,
     "metadata": {},
     "output_type": "execute_result"
    }
   ],
   "source": [
    "updater.start_polling()"
   ]
  },
  {
   "cell_type": "code",
   "execution_count": null,
   "metadata": {},
   "outputs": [],
   "source": []
  }
 ],
 "metadata": {
  "kernelspec": {
   "display_name": "Python 3",
   "language": "python",
   "name": "python3"
  },
  "language_info": {
   "codemirror_mode": {
    "name": "ipython",
    "version": 3
   },
   "file_extension": ".py",
   "mimetype": "text/x-python",
   "name": "python",
   "nbconvert_exporter": "python",
   "pygments_lexer": "ipython3",
   "version": "3.8.5"
  }
 },
 "nbformat": 4,
 "nbformat_minor": 4
}
